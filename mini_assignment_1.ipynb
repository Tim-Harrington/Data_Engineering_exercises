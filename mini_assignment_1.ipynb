{
 "cells": [
  {
   "cell_type": "code",
   "execution_count": 2,
   "metadata": {},
   "outputs": [],
   "source": [
    "import numpy as np\n",
    "import pandas as pd\n",
    "import random\n",
    "import time\n",
    "import timeit\n",
    "\n",
    "random.seed(10)"
   ]
  },
  {
   "cell_type": "markdown",
   "metadata": {},
   "source": [
    "## Generate 5 Arrays and Time the Sorts"
   ]
  },
  {
   "cell_type": "code",
   "execution_count": 3,
   "metadata": {},
   "outputs": [
    {
     "name": "stdout",
     "output_type": "stream",
     "text": [
      "0.0001556999999987596\n",
      "0.00023090000000003386\n",
      "0.0006844000000008066\n",
      "0.0017799000000007226\n",
      "0.0024313999999989733\n"
     ]
    }
   ],
   "source": [
    "np.random.seed(10)\n",
    "start = time.perf_counter()\n",
    "a = sorted(np.random.randint(0, 10000, 512))\n",
    "end = time.perf_counter()\n",
    "as_time = end-start\n",
    "print(end-start)\n",
    "\n",
    "np.random.seed(10)\n",
    "start = time.perf_counter()\n",
    "b = sorted(np.random.randint(0, 10000, 1024))\n",
    "end = time.perf_counter()\n",
    "bs_time = end-start\n",
    "print(end-start)\n",
    "\n",
    "np.random.seed(10)\n",
    "start = time.perf_counter()\n",
    "c = sorted(np.random.randint(0, 10000, 2048))\n",
    "end = time.perf_counter()\n",
    "cs_time = end-start\n",
    "print(end-start)\n",
    "\n",
    "np.random.seed(10)\n",
    "start = time.perf_counter()\n",
    "d = sorted(np.random.randint(0, 10000, 4096))\n",
    "end = time.perf_counter()\n",
    "ds_time = end-start\n",
    "print(end-start)\n",
    "\n",
    "\n",
    "np.random.seed(10)\n",
    "start = time.perf_counter()\n",
    "e = sorted(np.random.randint(0, 10000, 8192))\n",
    "end = time.perf_counter()\n",
    "es_time = end-start\n",
    "print(end-start)"
   ]
  },
  {
   "cell_type": "markdown",
   "metadata": {},
   "source": [
    "## Time Binary Search"
   ]
  },
  {
   "cell_type": "markdown",
   "metadata": {},
   "source": [
    "### Finding last item in each list, which yields the max value"
   ]
  },
  {
   "cell_type": "code",
   "execution_count": 1,
   "metadata": {},
   "outputs": [],
   "source": [
    "def binary_search(list, item):\n",
    "    # low and high keep track of which part of the list you'll search in.\n",
    "    low = 0\n",
    "    high = len(list) - 1\n",
    "\n",
    "    # While you haven't narrowed it down to one element ...\n",
    "    while low <= high:\n",
    "        \n",
    "      # ... check the middle element\n",
    "        mid = (low + high) // 2\n",
    "        guess = list[mid]\n",
    "      # Found the item.\n",
    "        if guess == item:\n",
    "            return mid\n",
    "      # The guess was too high.\n",
    "        if guess > item:\n",
    "            high = mid - 1\n",
    "      # The guess was too low.\n",
    "        else:\n",
    "            low = mid + 1\n",
    "\n",
    "    # Item doesn't exist\n",
    "    return None"
   ]
  },
  {
   "cell_type": "code",
   "execution_count": 5,
   "metadata": {},
   "outputs": [
    {
     "name": "stdout",
     "output_type": "stream",
     "text": [
      "3.740000000007626e-05\n"
     ]
    }
   ],
   "source": [
    "start = time.perf_counter()\n",
    "ab_result = binary_search(a, a[-1])\n",
    "end = time.perf_counter()\n",
    "ab_time = end-start\n",
    "print(end-start)"
   ]
  },
  {
   "cell_type": "code",
   "execution_count": 6,
   "metadata": {},
   "outputs": [
    {
     "name": "stdout",
     "output_type": "stream",
     "text": [
      "4.129999999946676e-05\n"
     ]
    }
   ],
   "source": [
    "start = time.perf_counter()\n",
    "bb_result = binary_search(b, b[-1])\n",
    "end = time.perf_counter()\n",
    "bb_time = end-start\n",
    "print(end-start)"
   ]
  },
  {
   "cell_type": "code",
   "execution_count": 7,
   "metadata": {},
   "outputs": [
    {
     "name": "stdout",
     "output_type": "stream",
     "text": [
      "3.700000000073089e-05\n"
     ]
    }
   ],
   "source": [
    "start = time.perf_counter()\n",
    "cb_result = binary_search(c, c[-1])\n",
    "end = time.perf_counter()\n",
    "cb_time = end-start\n",
    "print(end-start)"
   ]
  },
  {
   "cell_type": "code",
   "execution_count": 8,
   "metadata": {},
   "outputs": [
    {
     "name": "stdout",
     "output_type": "stream",
     "text": [
      "3.71999999995154e-05\n"
     ]
    }
   ],
   "source": [
    "start = time.perf_counter()\n",
    "db_result = binary_search(d, d[-1])\n",
    "end = time.perf_counter()\n",
    "db_time = end-start\n",
    "print(end-start)"
   ]
  },
  {
   "cell_type": "code",
   "execution_count": 9,
   "metadata": {},
   "outputs": [
    {
     "name": "stdout",
     "output_type": "stream",
     "text": [
      "4.020000000082291e-05\n"
     ]
    }
   ],
   "source": [
    "start = time.perf_counter()\n",
    "eb_result = binary_search(e, e[-1])\n",
    "end = time.perf_counter()\n",
    "eb_time = end-start\n",
    "print(end-start)"
   ]
  },
  {
   "cell_type": "markdown",
   "metadata": {},
   "source": [
    "## Time Linear/Brute Force Search"
   ]
  },
  {
   "cell_type": "code",
   "execution_count": 10,
   "metadata": {},
   "outputs": [],
   "source": [
    "def linear_search(mylist, item):\n",
    "    i = 0\n",
    "    while i < len(mylist): # why not use for loop through list?\n",
    "        if mylist[i] == item:\n",
    "            return i\n",
    "        else:\n",
    "            i = i + 1\n",
    "    return None"
   ]
  },
  {
   "cell_type": "code",
   "execution_count": 11,
   "metadata": {},
   "outputs": [
    {
     "name": "stdout",
     "output_type": "stream",
     "text": [
      "0.0002712999999978649\n"
     ]
    }
   ],
   "source": [
    "start = time.perf_counter()\n",
    "al_result = linear_search(a, a[-1])\n",
    "end = time.perf_counter()\n",
    "al_time = end-start\n",
    "print(end-start)"
   ]
  },
  {
   "cell_type": "code",
   "execution_count": 12,
   "metadata": {},
   "outputs": [
    {
     "name": "stdout",
     "output_type": "stream",
     "text": [
      "0.0001677999999998292\n"
     ]
    }
   ],
   "source": [
    "start = time.perf_counter()\n",
    "bl_result = linear_search(b, b[-1])\n",
    "end = time.perf_counter()\n",
    "bl_time = end-start\n",
    "print(end-start)"
   ]
  },
  {
   "cell_type": "code",
   "execution_count": 13,
   "metadata": {},
   "outputs": [
    {
     "name": "stdout",
     "output_type": "stream",
     "text": [
      "0.0002881000000023448\n"
     ]
    }
   ],
   "source": [
    "start = time.perf_counter()\n",
    "cl_result = linear_search(c, c[-1])\n",
    "end = time.perf_counter()\n",
    "cl_time = end-start\n",
    "print(end-start)"
   ]
  },
  {
   "cell_type": "code",
   "execution_count": 14,
   "metadata": {},
   "outputs": [
    {
     "name": "stdout",
     "output_type": "stream",
     "text": [
      "0.0005877999999981398\n"
     ]
    }
   ],
   "source": [
    "start = time.perf_counter()\n",
    "dl_result = linear_search(d, d[-1])\n",
    "end = time.perf_counter()\n",
    "dl_time = end-start\n",
    "print(end-start)"
   ]
  },
  {
   "cell_type": "code",
   "execution_count": 15,
   "metadata": {},
   "outputs": [
    {
     "name": "stdout",
     "output_type": "stream",
     "text": [
      "0.001088899999999171\n"
     ]
    }
   ],
   "source": [
    "start = time.perf_counter()\n",
    "el_result = linear_search(e, e[-1])\n",
    "end = time.perf_counter()\n",
    "el_time = end-start\n",
    "print(end-start)"
   ]
  },
  {
   "cell_type": "markdown",
   "metadata": {},
   "source": [
    "## Results Table"
   ]
  },
  {
   "cell_type": "code",
   "execution_count": 17,
   "metadata": {},
   "outputs": [],
   "source": [
    "import pandas as pd\n",
    "\n",
    "data = [['a', len(a), as_time, al_time, ab_time, ab_time + as_time],\n",
    "       ['b', len(b), bs_time, bl_time, bb_time, bb_time + bs_time],\n",
    "       ['c', len(c), cs_time, cl_time, cb_time, cb_time + cs_time],\n",
    "       ['d', len(d), ds_time, dl_time, db_time, db_time + ds_time],\n",
    "       ['e', len(e), es_time, el_time, eb_time, eb_time + es_time]]\n",
    "\n",
    "df = pd.DataFrame(data, columns = ['Name','Array_len','Sort_Time','Lin_Time','Bin_Time','Sort+Bin_Time'])"
   ]
  },
  {
   "cell_type": "code",
   "execution_count": 18,
   "metadata": {},
   "outputs": [
    {
     "data": {
      "text/html": [
       "<div>\n",
       "<style scoped>\n",
       "    .dataframe tbody tr th:only-of-type {\n",
       "        vertical-align: middle;\n",
       "    }\n",
       "\n",
       "    .dataframe tbody tr th {\n",
       "        vertical-align: top;\n",
       "    }\n",
       "\n",
       "    .dataframe thead th {\n",
       "        text-align: right;\n",
       "    }\n",
       "</style>\n",
       "<table border=\"1\" class=\"dataframe\">\n",
       "  <thead>\n",
       "    <tr style=\"text-align: right;\">\n",
       "      <th></th>\n",
       "      <th>Name</th>\n",
       "      <th>Array_len</th>\n",
       "      <th>Sort_Time</th>\n",
       "      <th>Lin_Time</th>\n",
       "      <th>Bin_Time</th>\n",
       "      <th>Sort+Bin_Time</th>\n",
       "    </tr>\n",
       "  </thead>\n",
       "  <tbody>\n",
       "    <tr>\n",
       "      <th>0</th>\n",
       "      <td>a</td>\n",
       "      <td>512</td>\n",
       "      <td>0.000156</td>\n",
       "      <td>0.000271</td>\n",
       "      <td>0.000037</td>\n",
       "      <td>0.000193</td>\n",
       "    </tr>\n",
       "    <tr>\n",
       "      <th>1</th>\n",
       "      <td>b</td>\n",
       "      <td>1024</td>\n",
       "      <td>0.000231</td>\n",
       "      <td>0.000168</td>\n",
       "      <td>0.000041</td>\n",
       "      <td>0.000272</td>\n",
       "    </tr>\n",
       "    <tr>\n",
       "      <th>2</th>\n",
       "      <td>c</td>\n",
       "      <td>2048</td>\n",
       "      <td>0.000684</td>\n",
       "      <td>0.000288</td>\n",
       "      <td>0.000037</td>\n",
       "      <td>0.000721</td>\n",
       "    </tr>\n",
       "    <tr>\n",
       "      <th>3</th>\n",
       "      <td>d</td>\n",
       "      <td>4096</td>\n",
       "      <td>0.001780</td>\n",
       "      <td>0.000588</td>\n",
       "      <td>0.000037</td>\n",
       "      <td>0.001817</td>\n",
       "    </tr>\n",
       "    <tr>\n",
       "      <th>4</th>\n",
       "      <td>e</td>\n",
       "      <td>8192</td>\n",
       "      <td>0.002431</td>\n",
       "      <td>0.001089</td>\n",
       "      <td>0.000040</td>\n",
       "      <td>0.002472</td>\n",
       "    </tr>\n",
       "  </tbody>\n",
       "</table>\n",
       "</div>"
      ],
      "text/plain": [
       "  Name  Array_len  Sort_Time  Lin_Time  Bin_Time  Sort+Bin_Time\n",
       "0    a        512   0.000156  0.000271  0.000037       0.000193\n",
       "1    b       1024   0.000231  0.000168  0.000041       0.000272\n",
       "2    c       2048   0.000684  0.000288  0.000037       0.000721\n",
       "3    d       4096   0.001780  0.000588  0.000037       0.001817\n",
       "4    e       8192   0.002431  0.001089  0.000040       0.002472"
      ]
     },
     "execution_count": 18,
     "metadata": {},
     "output_type": "execute_result"
    }
   ],
   "source": [
    "df"
   ]
  },
  {
   "cell_type": "markdown",
   "metadata": {},
   "source": [
    "## Graphs"
   ]
  },
  {
   "cell_type": "code",
   "execution_count": 31,
   "metadata": {},
   "outputs": [
    {
     "data": {
      "text/plain": [
       "<matplotlib.legend.Legend at 0x26ecb8d92e8>"
      ]
     },
     "execution_count": 31,
     "metadata": {},
     "output_type": "execute_result"
    },
    {
     "data": {
      "image/png": "[encoded data removed]",
      "text/plain": [
       "<Figure size 432x288 with 1 Axes>"
      ]
     },
     "metadata": {
      "needs_background": "light"
     },
     "output_type": "display_data"
    }
   ],
   "source": [
    "import matplotlib.pyplot as plt\n",
    "\n",
    "plt.plot(df['Array_len'],df['Sort_Time'], label = \"Sort\")\n",
    "plt.plot(df['Array_len'],df['Lin_Time'], label = \"Linear\")\n",
    "plt.plot(df['Array_len'],df['Bin_Time'], label = \"Binary\")\n",
    "plt.plot(df['Array_len'],df['Sort+Bin_Time'], label = \"Sort+Binary\")\n",
    "plt.xlabel('Array Length')\n",
    "plt.ylabel('Time')\n",
    "plt.legend()\n",
    "\n"
   ]
  },
  {
   "cell_type": "code",
   "execution_count": 33,
   "metadata": {},
   "outputs": [
    {
     "data": {
      "text/plain": [
       "<matplotlib.legend.Legend at 0x26ecb1d0278>"
      ]
     },
     "execution_count": 33,
     "metadata": {},
     "output_type": "execute_result"
    },
    {
     "data": {
      "image/png": "[encoded data removed]",
      "text/plain": [
       "<Figure size 432x288 with 1 Axes>"
      ]
     },
     "metadata": {
      "needs_background": "light"
     },
     "output_type": "display_data"
    }
   ],
   "source": [
    "plt.plot(df['Array_len'],df['Bin_Time'], label = \"Binary\")\n",
    "plt.xlabel('Array Length')\n",
    "plt.ylabel('Time')\n",
    "plt.legend()"
   ]
  },
  {
   "cell_type": "markdown",
   "metadata": {},
   "source": [
    "<p>Even though my computer isn't perfect, you can see some clear trends that sorting takes the most timee. <br>Once the data is sorted, binary search performance is much better than the linear search.<br><br>If we kept creating larger arrays we would likely see more and more separation between the linear and binary sorts. <br>However, the sort algorithm in base python is nlog(n) which is worse than linear search."
   ]
  },
  {
   "cell_type": "markdown",
   "metadata": {},
   "source": [
    "## Conclusion"
   ]
  },
  {
   "cell_type": "markdown",
   "metadata": {},
   "source": [
    "<p> The results seem to be within expectations of my understanding of time complexity.<br><br>Since Binary Search as O(log(n)) complexity, we see extremely good times compared to the linear search algorithm <br>which clearly shows a linear trend on our graph due to the O(n) time complexity.  This clearly wouldn't scale well.<br><br>However, our binary search requires the data to be sorted in order to work.  Unfortunately, the sort is costly as can be seen on the graph. Therefore, it would be wise to keep our data sorted at time of data ingestion and if we needed to search for a specific value, we could retrieve results extremely fast.  The sorting algorithm in python has O(nlog(n)) time complexity which scales worse than the linear search algorithm so this is why we'd want to do it up front.<br><br>I made another graph for the binary search times in order to see more details but the results aren't very meaningful. <br>Due to other processes running on my computer, each run will be slightly different and you won't see a logarithmic line. <br>However, the performance is still very good and the extremely small volatility can be ignored."
   ]
  }
 ],
 "metadata": {
  "kernelspec": {
   "display_name": "Python 3",
   "language": "python",
   "name": "python3"
  },
  "language_info": {
   "codemirror_mode": {
    "name": "ipython",
    "version": 3
   },
   "file_extension": ".py",
   "mimetype": "text/x-python",
   "name": "python",
   "nbconvert_exporter": "python",
   "pygments_lexer": "ipython3",
   "version": "3.7.3"
  }
 },
 "nbformat": 4,
 "nbformat_minor": 2
}
